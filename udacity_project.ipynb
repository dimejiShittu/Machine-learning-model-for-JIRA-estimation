{
 "cells": [
  {
   "cell_type": "markdown",
   "id": "f95d9cc6",
   "metadata": {},
   "source": [
    "# Project Overview\n",
    "\n",
    "This project aims to predict how long it will take to resolve a JIRA ticket based on various ticket attributes, including metadata and natural language descriptions. The input data is taken from a real-world JIRA export from Kaggle."
   ]
  },
  {
   "cell_type": "markdown",
   "id": "af81868c",
   "metadata": {},
   "source": [
    "## Problem Statement\n",
    "\n",
    "The goal is to accurately predict the resolution duration (in days) for each JIRA ticket. Predicting ticket duration helps project managers allocate resources, set expectations, and improve team planning."
   ]
  },
  {
   "cell_type": "markdown",
   "id": "52e8d9ec",
   "metadata": {},
   "source": [
    "## Metrics\n",
    "\n",
    "We evaluate model performance using:\n",
    "- **Mean Absolute Error (MAE):** Easy to interpret and robust to outliers.\n",
    "- **Root Mean Squared Error (RMSE):** Sensitive to large errors, useful when penalizing larger mistakes more.\n",
    "\n",
    "These are appropriate for regression tasks where we want to understand both the average error and sensitivity to larger mistakes."
   ]
  },
  {
   "cell_type": "code",
   "execution_count": 1,
   "id": "02fb411b",
   "metadata": {},
   "outputs": [
    {
     "name": "stdout",
     "output_type": "stream",
     "text": [
      "Requirement already satisfied: boto3 in /home/ec2-user/anaconda3/envs/python3/lib/python3.10/site-packages (1.37.22)\n",
      "Collecting xgboost\n",
      "  Downloading xgboost-3.0.0-py3-none-manylinux2014_x86_64.whl.metadata (2.0 kB)\n",
      "Collecting lightgbm\n",
      "  Downloading lightgbm-4.6.0.tar.gz (1.7 MB)\n",
      "\u001b[2K     \u001b[90m━━━━━━━━━━━━━━━━━━━━━━━━━━━━━━━━━━━━━━━━\u001b[0m \u001b[32m1.7/1.7 MB\u001b[0m \u001b[31m56.5 MB/s\u001b[0m eta \u001b[36m0:00:00\u001b[0m\n",
      "\u001b[?25h  Installing build dependencies ... \u001b[?25ldone\n",
      "\u001b[?25h  Getting requirements to build wheel ... \u001b[?25ldone\n",
      "\u001b[?25h  Installing backend dependencies ... \u001b[?25ldone\n",
      "\u001b[?25h  Preparing metadata (pyproject.toml) ... \u001b[?25ldone\n",
      "\u001b[?25hCollecting tensorflow\n",
      "  Downloading tensorflow-2.19.0-cp310-cp310-manylinux_2_17_x86_64.manylinux2014_x86_64.whl.metadata (4.1 kB)\n",
      "Requirement already satisfied: botocore<1.38.0,>=1.37.22 in /home/ec2-user/anaconda3/envs/python3/lib/python3.10/site-packages (from boto3) (1.37.22)\n",
      "Requirement already satisfied: jmespath<2.0.0,>=0.7.1 in /home/ec2-user/anaconda3/envs/python3/lib/python3.10/site-packages (from boto3) (1.0.1)\n",
      "Requirement already satisfied: s3transfer<0.12.0,>=0.11.0 in /home/ec2-user/anaconda3/envs/python3/lib/python3.10/site-packages (from boto3) (0.11.2)\n",
      "Requirement already satisfied: numpy in /home/ec2-user/anaconda3/envs/python3/lib/python3.10/site-packages (from xgboost) (1.26.4)\n",
      "Requirement already satisfied: scipy in /home/ec2-user/anaconda3/envs/python3/lib/python3.10/site-packages (from xgboost) (1.15.1)\n",
      "Collecting absl-py>=1.0.0 (from tensorflow)\n",
      "  Downloading absl_py-2.2.2-py3-none-any.whl.metadata (2.6 kB)\n",
      "Collecting astunparse>=1.6.0 (from tensorflow)\n",
      "  Downloading astunparse-1.6.3-py2.py3-none-any.whl.metadata (4.4 kB)\n",
      "Collecting flatbuffers>=24.3.25 (from tensorflow)\n",
      "  Downloading flatbuffers-25.2.10-py2.py3-none-any.whl.metadata (875 bytes)\n",
      "Collecting gast!=0.5.0,!=0.5.1,!=0.5.2,>=0.2.1 (from tensorflow)\n",
      "  Downloading gast-0.6.0-py3-none-any.whl.metadata (1.3 kB)\n",
      "Requirement already satisfied: google-pasta>=0.1.1 in /home/ec2-user/anaconda3/envs/python3/lib/python3.10/site-packages (from tensorflow) (0.2.0)\n",
      "Collecting libclang>=13.0.0 (from tensorflow)\n",
      "  Downloading libclang-18.1.1-py2.py3-none-manylinux2010_x86_64.whl.metadata (5.2 kB)\n",
      "Collecting opt-einsum>=2.3.2 (from tensorflow)\n",
      "  Downloading opt_einsum-3.4.0-py3-none-any.whl.metadata (6.3 kB)\n",
      "Requirement already satisfied: packaging in /home/ec2-user/anaconda3/envs/python3/lib/python3.10/site-packages (from tensorflow) (21.3)\n",
      "Requirement already satisfied: protobuf!=4.21.0,!=4.21.1,!=4.21.2,!=4.21.3,!=4.21.4,!=4.21.5,<6.0.0dev,>=3.20.3 in /home/ec2-user/anaconda3/envs/python3/lib/python3.10/site-packages (from tensorflow) (5.29.4)\n",
      "Requirement already satisfied: requests<3,>=2.21.0 in /home/ec2-user/anaconda3/envs/python3/lib/python3.10/site-packages (from tensorflow) (2.32.3)\n",
      "Requirement already satisfied: setuptools in /home/ec2-user/anaconda3/envs/python3/lib/python3.10/site-packages (from tensorflow) (75.8.0)\n",
      "Requirement already satisfied: six>=1.12.0 in /home/ec2-user/anaconda3/envs/python3/lib/python3.10/site-packages (from tensorflow) (1.17.0)\n",
      "Collecting termcolor>=1.1.0 (from tensorflow)\n",
      "  Downloading termcolor-3.0.1-py3-none-any.whl.metadata (6.1 kB)\n",
      "Requirement already satisfied: typing-extensions>=3.6.6 in /home/ec2-user/anaconda3/envs/python3/lib/python3.10/site-packages (from tensorflow) (4.12.2)\n",
      "Requirement already satisfied: wrapt>=1.11.0 in /home/ec2-user/anaconda3/envs/python3/lib/python3.10/site-packages (from tensorflow) (1.17.2)\n",
      "Collecting grpcio<2.0,>=1.24.3 (from tensorflow)\n",
      "  Downloading grpcio-1.71.0-cp310-cp310-manylinux_2_17_x86_64.manylinux2014_x86_64.whl.metadata (3.8 kB)\n",
      "Collecting tensorboard~=2.19.0 (from tensorflow)\n",
      "  Downloading tensorboard-2.19.0-py3-none-any.whl.metadata (1.8 kB)\n",
      "Collecting keras>=3.5.0 (from tensorflow)\n",
      "  Downloading keras-3.9.2-py3-none-any.whl.metadata (6.1 kB)\n",
      "Requirement already satisfied: h5py>=3.11.0 in /home/ec2-user/anaconda3/envs/python3/lib/python3.10/site-packages (from tensorflow) (3.12.1)\n",
      "Collecting ml-dtypes<1.0.0,>=0.5.1 (from tensorflow)\n",
      "  Downloading ml_dtypes-0.5.1-cp310-cp310-manylinux_2_17_x86_64.manylinux2014_x86_64.whl.metadata (21 kB)\n",
      "Collecting tensorflow-io-gcs-filesystem>=0.23.1 (from tensorflow)\n",
      "  Downloading tensorflow_io_gcs_filesystem-0.37.1-cp310-cp310-manylinux_2_17_x86_64.manylinux2014_x86_64.whl.metadata (14 kB)\n",
      "Requirement already satisfied: wheel<1.0,>=0.23.0 in /home/ec2-user/anaconda3/envs/python3/lib/python3.10/site-packages (from astunparse>=1.6.0->tensorflow) (0.45.1)\n",
      "Requirement already satisfied: python-dateutil<3.0.0,>=2.1 in /home/ec2-user/anaconda3/envs/python3/lib/python3.10/site-packages (from botocore<1.38.0,>=1.37.22->boto3) (2.9.0.post0)\n",
      "Requirement already satisfied: urllib3!=2.2.0,<3,>=1.25.4 in /home/ec2-user/anaconda3/envs/python3/lib/python3.10/site-packages (from botocore<1.38.0,>=1.37.22->boto3) (2.3.0)\n",
      "Requirement already satisfied: rich in /home/ec2-user/anaconda3/envs/python3/lib/python3.10/site-packages (from keras>=3.5.0->tensorflow) (13.9.4)\n",
      "Collecting namex (from keras>=3.5.0->tensorflow)\n",
      "  Downloading namex-0.0.8-py3-none-any.whl.metadata (246 bytes)\n",
      "Collecting optree (from keras>=3.5.0->tensorflow)\n",
      "  Downloading optree-0.15.0-cp310-cp310-manylinux_2_17_x86_64.manylinux2014_x86_64.whl.metadata (48 kB)\n",
      "Requirement already satisfied: charset_normalizer<4,>=2 in /home/ec2-user/anaconda3/envs/python3/lib/python3.10/site-packages (from requests<3,>=2.21.0->tensorflow) (3.4.1)\n",
      "Requirement already satisfied: idna<4,>=2.5 in /home/ec2-user/anaconda3/envs/python3/lib/python3.10/site-packages (from requests<3,>=2.21.0->tensorflow) (3.10)\n",
      "Requirement already satisfied: certifi>=2017.4.17 in /home/ec2-user/anaconda3/envs/python3/lib/python3.10/site-packages (from requests<3,>=2.21.0->tensorflow) (2025.1.31)\n",
      "Collecting markdown>=2.6.8 (from tensorboard~=2.19.0->tensorflow)\n",
      "  Downloading markdown-3.8-py3-none-any.whl.metadata (5.1 kB)\n",
      "Collecting tensorboard-data-server<0.8.0,>=0.7.0 (from tensorboard~=2.19.0->tensorflow)\n",
      "  Downloading tensorboard_data_server-0.7.2-py3-none-any.whl.metadata (1.1 kB)\n",
      "Requirement already satisfied: werkzeug>=1.0.1 in /home/ec2-user/anaconda3/envs/python3/lib/python3.10/site-packages (from tensorboard~=2.19.0->tensorflow) (3.1.3)\n",
      "Requirement already satisfied: pyparsing!=3.0.5,>=2.0.2 in /home/ec2-user/anaconda3/envs/python3/lib/python3.10/site-packages (from packaging->tensorflow) (3.2.1)\n",
      "Requirement already satisfied: MarkupSafe>=2.1.1 in /home/ec2-user/anaconda3/envs/python3/lib/python3.10/site-packages (from werkzeug>=1.0.1->tensorboard~=2.19.0->tensorflow) (3.0.2)\n",
      "Requirement already satisfied: markdown-it-py>=2.2.0 in /home/ec2-user/anaconda3/envs/python3/lib/python3.10/site-packages (from rich->keras>=3.5.0->tensorflow) (3.0.0)\n",
      "Requirement already satisfied: pygments<3.0.0,>=2.13.0 in /home/ec2-user/anaconda3/envs/python3/lib/python3.10/site-packages (from rich->keras>=3.5.0->tensorflow) (2.19.1)\n",
      "Requirement already satisfied: mdurl~=0.1 in /home/ec2-user/anaconda3/envs/python3/lib/python3.10/site-packages (from markdown-it-py>=2.2.0->rich->keras>=3.5.0->tensorflow) (0.1.2)\n",
      "Downloading xgboost-3.0.0-py3-none-manylinux2014_x86_64.whl (4.9 MB)\n",
      "\u001b[2K   \u001b[90m━━━━━━━━━━━━━━━━━━━━━━━━━━━━━━━━━━━━━━━━\u001b[0m \u001b[32m4.9/4.9 MB\u001b[0m \u001b[31m98.1 MB/s\u001b[0m eta \u001b[36m0:00:00\u001b[0m\n",
      "\u001b[?25hDownloading tensorflow-2.19.0-cp310-cp310-manylinux_2_17_x86_64.manylinux2014_x86_64.whl (644.8 MB)\n",
      "\u001b[2K   \u001b[90m━━━━━━━━━━━━━━━━━━━━━━━━━━━━━━━━━━━━━━━━\u001b[0m \u001b[32m644.8/644.8 MB\u001b[0m \u001b[31m21.2 MB/s\u001b[0m eta \u001b[36m0:00:00\u001b[0m00:01\u001b[0m00:01\u001b[0m\n",
      "\u001b[?25hDownloading absl_py-2.2.2-py3-none-any.whl (135 kB)\n",
      "Downloading astunparse-1.6.3-py2.py3-none-any.whl (12 kB)\n",
      "Downloading flatbuffers-25.2.10-py2.py3-none-any.whl (30 kB)\n",
      "Downloading gast-0.6.0-py3-none-any.whl (21 kB)\n",
      "Downloading grpcio-1.71.0-cp310-cp310-manylinux_2_17_x86_64.manylinux2014_x86_64.whl (5.9 MB)\n",
      "\u001b[2K   \u001b[90m━━━━━━━━━━━━━━━━━━━━━━━━━━━━━━━━━━━━━━━━\u001b[0m \u001b[32m5.9/5.9 MB\u001b[0m \u001b[31m163.2 MB/s\u001b[0m eta \u001b[36m0:00:00\u001b[0m\n",
      "\u001b[?25hDownloading keras-3.9.2-py3-none-any.whl (1.3 MB)\n",
      "\u001b[2K   \u001b[90m━━━━━━━━━━━━━━━━━━━━━━━━━━━━━━━━━━━━━━━━\u001b[0m \u001b[32m1.3/1.3 MB\u001b[0m \u001b[31m96.5 MB/s\u001b[0m eta \u001b[36m0:00:00\u001b[0m\n",
      "\u001b[?25hDownloading libclang-18.1.1-py2.py3-none-manylinux2010_x86_64.whl (24.5 MB)\n",
      "\u001b[2K   \u001b[90m━━━━━━━━━━━━━━━━━━━━━━━━━━━━━━━━━━━━━━━━\u001b[0m \u001b[32m24.5/24.5 MB\u001b[0m \u001b[31m150.1 MB/s\u001b[0m eta \u001b[36m0:00:00\u001b[0m\n",
      "\u001b[?25hDownloading ml_dtypes-0.5.1-cp310-cp310-manylinux_2_17_x86_64.manylinux2014_x86_64.whl (4.7 MB)\n",
      "\u001b[2K   \u001b[90m━━━━━━━━━━━━━━━━━━━━━━━━━━━━━━━━━━━━━━━━\u001b[0m \u001b[32m4.7/4.7 MB\u001b[0m \u001b[31m161.2 MB/s\u001b[0m eta \u001b[36m0:00:00\u001b[0m\n",
      "\u001b[?25hDownloading opt_einsum-3.4.0-py3-none-any.whl (71 kB)\n",
      "Downloading tensorboard-2.19.0-py3-none-any.whl (5.5 MB)\n",
      "\u001b[2K   \u001b[90m━━━━━━━━━━━━━━━━━━━━━━━━━━━━━━━━━━━━━━━━\u001b[0m \u001b[32m5.5/5.5 MB\u001b[0m \u001b[31m168.3 MB/s\u001b[0m eta \u001b[36m0:00:00\u001b[0m\n",
      "\u001b[?25hDownloading tensorflow_io_gcs_filesystem-0.37.1-cp310-cp310-manylinux_2_17_x86_64.manylinux2014_x86_64.whl (5.1 MB)\n",
      "\u001b[2K   \u001b[90m━━━━━━━━━━━━━━━━━━━━━━━━━━━━━━━━━━━━━━━━\u001b[0m \u001b[32m5.1/5.1 MB\u001b[0m \u001b[31m120.2 MB/s\u001b[0m eta \u001b[36m0:00:00\u001b[0m\n",
      "\u001b[?25hDownloading termcolor-3.0.1-py3-none-any.whl (7.2 kB)\n",
      "Downloading markdown-3.8-py3-none-any.whl (106 kB)\n",
      "Downloading tensorboard_data_server-0.7.2-py3-none-any.whl (2.4 kB)\n",
      "Downloading namex-0.0.8-py3-none-any.whl (5.8 kB)\n",
      "Downloading optree-0.15.0-cp310-cp310-manylinux_2_17_x86_64.manylinux2014_x86_64.whl (397 kB)\n",
      "Building wheels for collected packages: lightgbm\n",
      "  Building wheel for lightgbm (pyproject.toml) ... \u001b[?25ldone\n",
      "\u001b[?25h  Created wheel for lightgbm: filename=lightgbm-4.6.0-py3-none-linux_x86_64.whl size=2737776 sha256=c99894d785b960ad5134929397d4e556d54d6657f6d23396274a69665a8234b6\n",
      "  Stored in directory: /home/ec2-user/.cache/pip/wheels/bb/db/6d/7814aed03437129dc284a055c084f201b765deb54b6908efab\n",
      "Successfully built lightgbm\n",
      "Installing collected packages: namex, libclang, flatbuffers, termcolor, tensorflow-io-gcs-filesystem, tensorboard-data-server, optree, opt-einsum, ml-dtypes, markdown, grpcio, gast, astunparse, absl-py, xgboost, tensorboard, lightgbm, keras, tensorflow\n",
      "Successfully installed absl-py-2.2.2 astunparse-1.6.3 flatbuffers-25.2.10 gast-0.6.0 grpcio-1.71.0 keras-3.9.2 libclang-18.1.1 lightgbm-4.6.0 markdown-3.8 ml-dtypes-0.5.1 namex-0.0.8 opt-einsum-3.4.0 optree-0.15.0 tensorboard-2.19.0 tensorboard-data-server-0.7.2 tensorflow-2.19.0 tensorflow-io-gcs-filesystem-0.37.1 termcolor-3.0.1 xgboost-3.0.0\n",
      "Note: you may need to restart the kernel to use updated packages.\n"
     ]
    }
   ],
   "source": [
    "pip install boto3 xgboost lightgbm tensorflow"
   ]
  },
  {
   "cell_type": "code",
   "execution_count": 2,
   "id": "b3601c5f",
   "metadata": {},
   "outputs": [
    {
     "name": "stdout",
     "output_type": "stream",
     "text": [
      "                                             Summary         Issue key  \\\n",
      "0  Sourcetree repository tab width automatically ...  SRCTREEWIN-14221   \n",
      "1  Stashes don't show untracked files when clicki...  SRCTREEWIN-14215   \n",
      "2                        Beyond compare not starting  SRCTREEWIN-14211   \n",
      "3  Displaying all changes between hash1 and hash2...  SRCTREEWIN-14210   \n",
      "4  Displaying all changes between hash1 and hash2...  SRCTREEWIN-14209   \n",
      "\n",
      "   Issue id Issue Type              Status Project key  \\\n",
      "0   1949800        Bug  Short Term Backlog  SRCTREEWIN   \n",
      "1   1946072        Bug  Short Term Backlog  SRCTREEWIN   \n",
      "2   1945187        Bug    Gathering Impact  SRCTREEWIN   \n",
      "3   1945171        Bug              Closed  SRCTREEWIN   \n",
      "4   1945161        Bug              Closed  SRCTREEWIN   \n",
      "\n",
      "             Project name Project type Project lead  Project description  ...  \\\n",
      "0  Sourcetree for Windows     software       rgomis                  NaN  ...   \n",
      "1  Sourcetree for Windows     software       rgomis                  NaN  ...   \n",
      "2  Sourcetree for Windows     software       rgomis                  NaN  ...   \n",
      "3  Sourcetree for Windows     software       rgomis                  NaN  ...   \n",
      "4  Sourcetree for Windows     software       rgomis                  NaN  ...   \n",
      "\n",
      "  Comment.75 Comment.76 Comment.77 Comment.78 Comment.79 Comment.80  \\\n",
      "0        NaN        NaN        NaN        NaN        NaN        NaN   \n",
      "1        NaN        NaN        NaN        NaN        NaN        NaN   \n",
      "2        NaN        NaN        NaN        NaN        NaN        NaN   \n",
      "3        NaN        NaN        NaN        NaN        NaN        NaN   \n",
      "4        NaN        NaN        NaN        NaN        NaN        NaN   \n",
      "\n",
      "  Comment.81 Comment.82 Comment.83 Comment.84  \n",
      "0        NaN        NaN        NaN        NaN  \n",
      "1        NaN        NaN        NaN        NaN  \n",
      "2        NaN        NaN        NaN        NaN  \n",
      "3        NaN        NaN        NaN        NaN  \n",
      "4        NaN        NaN        NaN        NaN  \n",
      "\n",
      "[5 rows x 491 columns]\n",
      "<class 'pandas.core.frame.DataFrame'>\n",
      "RangeIndex: 49000 entries, 0 to 48999\n",
      "Columns: 491 entries, Summary to Comment.84\n",
      "dtypes: bool(1), float64(205), int64(10), object(275)\n",
      "memory usage: 183.2+ MB\n",
      "None\n"
     ]
    }
   ],
   "source": [
    "import boto3\n",
    "import pandas as pd\n",
    "from io import StringIO\n",
    "\n",
    "# AWS S3 bucket and file details\n",
    "bucket_name = 'sagemaker-us-east-1-975049930129'\n",
    "file_key = 'udacity-proj/GFG_FINAL 2.csv'\n",
    "\n",
    "# Initialize an S3 client\n",
    "s3_client = boto3.client('s3')\n",
    "\n",
    "# Read the file content from S3\n",
    "response = s3_client.get_object(Bucket=bucket_name, Key=file_key)\n",
    "csv_content = response['Body'].read().decode('utf-8')\n",
    "\n",
    "# Load the CSV content into a Pandas DataFrame\n",
    "jira_data = pd.read_csv(StringIO(csv_content))\n",
    "\n",
    "# Inspect the data\n",
    "print(jira_data.head())\n",
    "print(jira_data.info())"
   ]
  },
  {
   "cell_type": "code",
   "execution_count": 4,
   "id": "364930c5",
   "metadata": {},
   "outputs": [
    {
     "name": "stdout",
     "output_type": "stream",
     "text": [
      "                                              Summary  Status  Issue Type  \\\n",
      "3   Displaying all changes between hash1 and hash2...  Closed         Bug   \n",
      "4   Displaying all changes between hash1 and hash2...  Closed         Bug   \n",
      "16                                   GlucoTru Reviews  Closed  Suggestion   \n",
      "20     Primal Beast Male Enhancement official reviews  Closed         Bug   \n",
      "21           Primal Beast Male Enhancement get it now  Closed         Bug   \n",
      "\n",
      "   Resolution Priority             Created             Updated  \\\n",
      "3   Not a bug      Low 2023-05-22 20:49:00 2023-05-30 10:04:00   \n",
      "4   Duplicate      Low 2023-05-22 13:31:00 2023-05-30 09:56:00   \n",
      "16       Spam      NaN 2023-04-14 10:04:00 2023-04-14 15:11:00   \n",
      "20      Fixed     High 2023-03-29 09:54:00 2023-04-10 09:08:00   \n",
      "21       Spam     High 2023-03-29 09:53:00 2023-04-10 09:09:00   \n",
      "\n",
      "              Resolved                                        Description  \\\n",
      "3  2023-05-30 10:04:00  When I'm selecting multiple nodes the file sta...   \n",
      "4  2023-05-30 09:56:00  When I'm selecting multiple nodes the file sta...   \n",
      "16 2023-04-14 15:11:00  *{color:#29c541}[OFFICIAL WEBSITE \"{color:#cc0...   \n",
      "20 2023-03-29 14:55:00  *[Primal Beast Male Enhancement|https://top10s...   \n",
      "21 2023-04-10 09:09:00  *[Primal Beast Male Enhancement|https://top10s...   \n",
      "\n",
      "    Custom field (Comments)  ... Comment.75 Comment.76 Comment.77 Comment.78  \\\n",
      "3                       1.0  ...        NaN        NaN        NaN        NaN   \n",
      "4                       1.0  ...        NaN        NaN        NaN        NaN   \n",
      "16                      1.0  ...        NaN        NaN        NaN        NaN   \n",
      "20                      2.0  ...        NaN        NaN        NaN        NaN   \n",
      "21                      2.0  ...        NaN        NaN        NaN        NaN   \n",
      "\n",
      "   Comment.79 Comment.80 Comment.81 Comment.82 Comment.83 Comment.84  \n",
      "3         NaN        NaN        NaN        NaN        NaN        NaN  \n",
      "4         NaN        NaN        NaN        NaN        NaN        NaN  \n",
      "16        NaN        NaN        NaN        NaN        NaN        NaN  \n",
      "20        NaN        NaN        NaN        NaN        NaN        NaN  \n",
      "21        NaN        NaN        NaN        NaN        NaN        NaN  \n",
      "\n",
      "[5 rows x 95 columns]\n",
      "<class 'pandas.core.frame.DataFrame'>\n",
      "Int64Index: 16562 entries, 3 to 48994\n",
      "Data columns (total 95 columns):\n",
      " #   Column                   Non-Null Count  Dtype         \n",
      "---  ------                   --------------  -----         \n",
      " 0   Summary                  16562 non-null  object        \n",
      " 1   Status                   16562 non-null  object        \n",
      " 2   Issue Type               16562 non-null  object        \n",
      " 3   Resolution               16562 non-null  object        \n",
      " 4   Priority                 16023 non-null  object        \n",
      " 5   Created                  16562 non-null  datetime64[ns]\n",
      " 6   Updated                  16562 non-null  datetime64[ns]\n",
      " 7   Resolved                 16562 non-null  datetime64[ns]\n",
      " 8   Description              16562 non-null  object        \n",
      " 9   Custom field (Comments)  16562 non-null  float64       \n",
      " 10  Comment                  14210 non-null  object        \n",
      " 11  Comment.1                10388 non-null  object        \n",
      " 12  Comment.2                5831 non-null   object        \n",
      " 13  Comment.3                3871 non-null   object        \n",
      " 14  Comment.4                2891 non-null   object        \n",
      " 15  Comment.5                2401 non-null   object        \n",
      " 16  Comment.6                1715 non-null   object        \n",
      " 17  Comment.7                1323 non-null   object        \n",
      " 18  Comment.8                1127 non-null   object        \n",
      " 19  Comment.9                1029 non-null   object        \n",
      " 20  Comment.10               882 non-null    object        \n",
      " 21  Comment.11               539 non-null    object        \n",
      " 22  Comment.12               441 non-null    object        \n",
      " 23  Comment.13               392 non-null    object        \n",
      " 24  Comment.14               343 non-null    object        \n",
      " 25  Comment.15               343 non-null    object        \n",
      " 26  Comment.16               294 non-null    object        \n",
      " 27  Comment.17               294 non-null    object        \n",
      " 28  Comment.18               294 non-null    object        \n",
      " 29  Comment.19               294 non-null    object        \n",
      " 30  Comment.20               294 non-null    object        \n",
      " 31  Comment.21               294 non-null    object        \n",
      " 32  Comment.22               294 non-null    object        \n",
      " 33  Comment.23               294 non-null    object        \n",
      " 34  Comment.24               245 non-null    object        \n",
      " 35  Comment.25               196 non-null    object        \n",
      " 36  Comment.26               196 non-null    object        \n",
      " 37  Comment.27               196 non-null    object        \n",
      " 38  Comment.28               196 non-null    object        \n",
      " 39  Comment.29               147 non-null    object        \n",
      " 40  Comment.30               147 non-null    object        \n",
      " 41  Comment.31               147 non-null    object        \n",
      " 42  Comment.32               147 non-null    object        \n",
      " 43  Comment.33               147 non-null    object        \n",
      " 44  Comment.34               147 non-null    object        \n",
      " 45  Comment.35               98 non-null     object        \n",
      " 46  Comment.36               98 non-null     object        \n",
      " 47  Comment.37               98 non-null     object        \n",
      " 48  Comment.38               98 non-null     object        \n",
      " 49  Comment.39               98 non-null     object        \n",
      " 50  Comment.40               98 non-null     object        \n",
      " 51  Comment.41               98 non-null     object        \n",
      " 52  Comment.42               98 non-null     object        \n",
      " 53  Comment.43               98 non-null     object        \n",
      " 54  Comment.44               98 non-null     object        \n",
      " 55  Comment.45               98 non-null     object        \n",
      " 56  Comment.46               98 non-null     object        \n",
      " 57  Comment.47               98 non-null     object        \n",
      " 58  Comment.48               98 non-null     object        \n",
      " 59  Comment.49               98 non-null     object        \n",
      " 60  Comment.50               98 non-null     object        \n",
      " 61  Comment.51               49 non-null     object        \n",
      " 62  Comment.52               49 non-null     object        \n",
      " 63  Comment.53               49 non-null     object        \n",
      " 64  Comment.54               49 non-null     object        \n",
      " 65  Comment.55               49 non-null     object        \n",
      " 66  Comment.56               49 non-null     object        \n",
      " 67  Comment.57               49 non-null     object        \n",
      " 68  Comment.58               49 non-null     object        \n",
      " 69  Comment.59               49 non-null     object        \n",
      " 70  Comment.60               49 non-null     object        \n",
      " 71  Comment.61               49 non-null     object        \n",
      " 72  Comment.62               49 non-null     object        \n",
      " 73  Comment.63               49 non-null     object        \n",
      " 74  Comment.64               49 non-null     object        \n",
      " 75  Comment.65               49 non-null     object        \n",
      " 76  Comment.66               49 non-null     object        \n",
      " 77  Comment.67               49 non-null     object        \n",
      " 78  Comment.68               49 non-null     object        \n",
      " 79  Comment.69               49 non-null     object        \n",
      " 80  Comment.70               49 non-null     object        \n",
      " 81  Comment.71               49 non-null     object        \n",
      " 82  Comment.72               49 non-null     object        \n",
      " 83  Comment.73               49 non-null     object        \n",
      " 84  Comment.74               49 non-null     object        \n",
      " 85  Comment.75               49 non-null     object        \n",
      " 86  Comment.76               49 non-null     object        \n",
      " 87  Comment.77               49 non-null     object        \n",
      " 88  Comment.78               49 non-null     object        \n",
      " 89  Comment.79               49 non-null     object        \n",
      " 90  Comment.80               49 non-null     object        \n",
      " 91  Comment.81               49 non-null     object        \n",
      " 92  Comment.82               49 non-null     object        \n",
      " 93  Comment.83               49 non-null     object        \n",
      " 94  Comment.84               49 non-null     object        \n",
      "dtypes: datetime64[ns](3), float64(1), object(91)\n",
      "memory usage: 12.1+ MB\n",
      "None\n"
     ]
    }
   ],
   "source": [
    "## Data Cleaning\n",
    "\n",
    "# Identify all columns with \"Comment\" in their name\n",
    "comment_columns = [col for col in jira_data.columns if 'Comment' in col]\n",
    "\n",
    "# Define other columns to keep\n",
    "other_columns = ['Summary', 'Status', 'Issue Type', 'Resolution', \n",
    "                 'Priority', 'Created', 'Updated', 'Resolved', 'Description']\n",
    "\n",
    "# Combine the lists\n",
    "columns_to_keep = other_columns + comment_columns\n",
    "\n",
    "# Select only those columns\n",
    "jira_data = jira_data[columns_to_keep]\n",
    "\n",
    "# Filter out rows where the 'Resolved' column is null or has invalid values\n",
    "jira_data = jira_data[jira_data['Resolved'].notnull()]\n",
    "\n",
    "jira_data['Created'] = pd.to_datetime(jira_data['Created'])\n",
    "jira_data['Updated'] = pd.to_datetime(jira_data['Updated'])\n",
    "# Convert the 'Resolved' column to datetime after filtering\n",
    "jira_data['Resolved'] = pd.to_datetime(jira_data['Resolved'], errors='coerce')\n",
    "\n",
    "print(jira_data.head())\n",
    "print(jira_data.info())"
   ]
  },
  {
   "cell_type": "code",
   "execution_count": 5,
   "id": "16f58aef",
   "metadata": {},
   "outputs": [
    {
     "name": "stdout",
     "output_type": "stream",
     "text": [
      "                                   Aggregated_Comment  Activity Level\n",
      "3   1.0 30/May/2023 10:04 AM;698877135425;When sel...              60\n",
      "4   1.0 30/May/2023 9:56 AM;698877135425;Closing t...              12\n",
      "16  1.0 14/Apr/2023 3:11 PM;9db362c0c6b2;Not relat...               7\n",
      "20  2.0 29/Mar/2023 2:55 PM;9db362c0c6b2;Not relat...              23\n",
      "21  2.0 29/Mar/2023 2:55 PM;9db362c0c6b2;Not relat...              23\n"
     ]
    }
   ],
   "source": [
    "## Feature engineering\n",
    "from sklearn.feature_extraction.text import TfidfVectorizer\n",
    "\n",
    "jira_data = pd.get_dummies(jira_data, columns=['Status', 'Issue Type', 'Resolution', 'Priority'])\n",
    "\n",
    "\n",
    "vectorizer = TfidfVectorizer(max_features=100)\n",
    "text_features = vectorizer.fit_transform(jira_data['Description']).toarray()\n",
    "\n",
    "jira_data['Duration'] = (jira_data['Resolved'] - jira_data['Created']).dt.days\n",
    "\n",
    "# Identify all columns with \"Comment\" in their name\n",
    "comment_columns = [col for col in jira_data.columns if 'Comment' in col]\n",
    "\n",
    "# Ensure all values in 'Comment' columns are strings\n",
    "jira_data[comment_columns] = jira_data[comment_columns].fillna('').astype(str)\n",
    "\n",
    "# Aggregate all 'Comment' columns into a single column\n",
    "jira_data['Aggregated_Comment'] = jira_data[comment_columns].agg(' '.join, axis=1)\n",
    "\n",
    "# Calculate the Activity Level based on the aggregated comments\n",
    "jira_data['Activity Level'] = jira_data['Aggregated_Comment'].apply(lambda x: len(x.split()))\n",
    "\n",
    "# Inspect the resulting DataFrame\n",
    "print(jira_data[['Aggregated_Comment', 'Activity Level']].head())"
   ]
  },
  {
   "cell_type": "code",
   "execution_count": 5,
   "id": "2fcf648b",
   "metadata": {},
   "outputs": [],
   "source": [
    "# Target variable and features\n",
    "from sklearn.preprocessing import OneHotEncoder\n",
    "from sklearn.feature_extraction.text import TfidfVectorizer\n",
    "\n",
    "# Separate features and target\n",
    "target = 'Duration'\n",
    "X = jira_data.drop(columns=[target])\n",
    "y = jira_data[target]\n",
    "\n",
    "# Identify categorical and text columns\n",
    "categorical_columns = X.select_dtypes(include=['object']).columns.tolist()\n",
    "text_columns = ['Description']\n",
    "\n",
    "# One-hot encode categorical columns\n",
    "encoder = OneHotEncoder(sparse_output=False, handle_unknown='ignore')\n",
    "encoded_categorical = encoder.fit_transform(X[categorical_columns])\n",
    "\n",
    "# Process text columns with TF-IDF\n",
    "vectorizer = TfidfVectorizer(max_features=100)\n",
    "tfidf_features = vectorizer.fit_transform(X[text_columns[0]].fillna('')).toarray()\n",
    "\n",
    "# Drop processed columns from X\n",
    "X = X.drop(columns=categorical_columns + text_columns).reset_index(drop=True)\n",
    "\n",
    "# Convert encoded features and text features to DataFrames\n",
    "import pandas as pd\n",
    "encoded_df = pd.DataFrame(encoded_categorical, columns=encoder.get_feature_names_out(categorical_columns))\n",
    "tfidf_df = pd.DataFrame(tfidf_features, columns=[f'TF_IDF_{i}' for i in range(tfidf_features.shape[1])])\n",
    "\n",
    "# Concatenate processed features with the rest of X\n",
    "X = pd.concat([X, encoded_df, tfidf_df], axis=1)"
   ]
  },
  {
   "cell_type": "code",
   "execution_count": 6,
   "id": "ff41e745",
   "metadata": {},
   "outputs": [],
   "source": [
    "# Split your data into training and testing sets.\n",
    "from sklearn.model_selection import train_test_split\n",
    "\n",
    "X_train, X_test, y_train, y_test = train_test_split(X, y, test_size=0.2, random_state=42)"
   ]
  },
  {
   "cell_type": "code",
   "execution_count": 7,
   "id": "cee77902",
   "metadata": {},
   "outputs": [],
   "source": [
    "# Normalize/Scale Features\n",
    "\n",
    "# Convert datetime columns to numeric (epoch time in seconds)\n",
    "datetime_columns = ['Created', 'Updated', 'Resolved']\n",
    "\n",
    "for col in datetime_columns:\n",
    "    X_train[col] = pd.to_datetime(X_train[col]).astype(int) / 10**9\n",
    "    X_test[col] = pd.to_datetime(X_test[col]).astype(int) / 10**9\n",
    "\n",
    "# Ensure 'Duration' is numeric\n",
    "if 'Duration' in X_train.columns:\n",
    "    X_train['Duration'] = X_train['Duration'].astype(float)\n",
    "    X_test['Duration'] = X_test['Duration'].astype(float)\n",
    "\n",
    "# Drop non-numeric columns\n",
    "X_train = X_train.select_dtypes(include=['float64', 'int64'])\n",
    "X_test = X_test.select_dtypes(include=['float64', 'int64'])\n",
    "\n",
    "# Scale the numeric features\n",
    "from sklearn.preprocessing import StandardScaler\n",
    "\n",
    "scaler = StandardScaler()\n",
    "X_train_scaled = scaler.fit_transform(X_train)\n",
    "X_test_scaled = scaler.transform(X_test)"
   ]
  },
  {
   "cell_type": "code",
   "execution_count": 8,
   "id": "141f8bb7",
   "metadata": {},
   "outputs": [
    {
     "name": "stdout",
     "output_type": "stream",
     "text": [
      "Linear Regression MAE: 2.1635801109245925e-12\n",
      "Linear Regression RMSE: 1.0255976017049424e-23\n",
      "Heuristic MAE: 160.1165423826074\n"
     ]
    }
   ],
   "source": [
    "# Train a simple linear regression model as a baseline.\n",
    "\n",
    "from sklearn.linear_model import LinearRegression\n",
    "from sklearn.metrics import mean_absolute_error, mean_squared_error\n",
    "\n",
    "# Train the model\n",
    "linear_model = LinearRegression()\n",
    "linear_model.fit(X_train_scaled, y_train)\n",
    "\n",
    "# Predict and evaluate\n",
    "y_pred = linear_model.predict(X_test_scaled)\n",
    "print(\"Linear Regression MAE:\", mean_absolute_error(y_test, y_pred))\n",
    "print(\"Linear Regression RMSE:\", mean_squared_error(y_test, y_pred))\n",
    "\n",
    "heuristic_pred = [y_train.mean()] * len(y_test)  # Predict mean of training target\n",
    "print(\"Heuristic MAE:\", mean_absolute_error(y_test, heuristic_pred))"
   ]
  },
  {
   "cell_type": "code",
   "execution_count": 9,
   "id": "5774a611",
   "metadata": {},
   "outputs": [
    {
     "name": "stdout",
     "output_type": "stream",
     "text": [
      "Random Forest MAE: 0.0\n"
     ]
    }
   ],
   "source": [
    "# Use Random Forest for structured data.\n",
    "\n",
    "from sklearn.ensemble import RandomForestRegressor\n",
    "\n",
    "rf_model = RandomForestRegressor(random_state=42)\n",
    "rf_model.fit(X_train_scaled, y_train)\n",
    "\n",
    "y_pred_rf = rf_model.predict(X_test_scaled)\n",
    "print(\"Random Forest MAE:\", mean_absolute_error(y_test, y_pred_rf))"
   ]
  },
  {
   "cell_type": "code",
   "execution_count": 10,
   "id": "5a33b695",
   "metadata": {},
   "outputs": [
    {
     "name": "stderr",
     "output_type": "stream",
     "text": [
      "/home/ec2-user/anaconda3/envs/python3/lib/python3.10/site-packages/xgboost/core.py:377: FutureWarning: Your system has an old version of glibc (< 2.28). We will stop supporting Linux distros with glibc older than 2.28 after **May 31, 2025**. Please upgrade to a recent Linux distro (with glibc >= 2.28) to use future versions of XGBoost.\n",
      "Note: You have installed the 'manylinux2014' variant of XGBoost. Certain features such as GPU algorithms or federated learning are not available. To use these features, please upgrade to a recent Linux distro with glibc 2.28+, and install the 'manylinux_2_28' variant.\n",
      "  warnings.warn(\n"
     ]
    },
    {
     "name": "stdout",
     "output_type": "stream",
     "text": [
      "XGBoost MAE: 0.28973284363746643\n"
     ]
    }
   ],
   "source": [
    "# Train an XGBoost model for enhanced performance\n",
    "\n",
    "from xgboost import XGBRegressor\n",
    "\n",
    "xgb_model = XGBRegressor(random_state=42)\n",
    "xgb_model.fit(X_train_scaled, y_train)\n",
    "\n",
    "y_pred_xgb = xgb_model.predict(X_test_scaled)\n",
    "print(\"XGBoost MAE:\", mean_absolute_error(y_test, y_pred_xgb))"
   ]
  },
  {
   "cell_type": "code",
   "execution_count": 11,
   "id": "ff61d1c3",
   "metadata": {},
   "outputs": [
    {
     "name": "stdout",
     "output_type": "stream",
     "text": [
      "[LightGBM] [Info] Auto-choosing row-wise multi-threading, the overhead of testing was 0.236434 seconds.\n",
      "You can set `force_row_wise=true` to remove the overhead.\n",
      "And if memory is not enough, you can set `force_col_wise=true`.\n",
      "[LightGBM] [Info] Total Bins 13210\n",
      "[LightGBM] [Info] Number of data points in the train set: 13249, number of used features: 2239\n",
      "[LightGBM] [Info] Start training from score 188.512944\n",
      "LightGBM MAE: 0.1936900292938517\n"
     ]
    },
    {
     "name": "stderr",
     "output_type": "stream",
     "text": [
      "/home/ec2-user/anaconda3/envs/python3/lib/python3.10/site-packages/sklearn/utils/validation.py:2739: UserWarning: X does not have valid feature names, but LGBMRegressor was fitted with feature names\n",
      "  warnings.warn(\n"
     ]
    }
   ],
   "source": [
    "# Use LightGBM for structured data.\n",
    "\n",
    "import lightgbm as lgb\n",
    "\n",
    "lgb_model = lgb.LGBMRegressor(random_state=42)\n",
    "lgb_model.fit(X_train_scaled, y_train)\n",
    "\n",
    "y_pred_lgb = lgb_model.predict(X_test_scaled)\n",
    "print(\"LightGBM MAE:\", mean_absolute_error(y_test, y_pred_lgb))"
   ]
  },
  {
   "cell_type": "code",
   "execution_count": 12,
   "id": "17df7cb1",
   "metadata": {},
   "outputs": [
    {
     "name": "stderr",
     "output_type": "stream",
     "text": [
      "2025-04-12 15:17:20.847060: E external/local_xla/xla/stream_executor/cuda/cuda_fft.cc:467] Unable to register cuFFT factory: Attempting to register factory for plugin cuFFT when one has already been registered\n",
      "WARNING: All log messages before absl::InitializeLog() is called are written to STDERR\n",
      "E0000 00:00:1744471041.082137    8544 cuda_dnn.cc:8579] Unable to register cuDNN factory: Attempting to register factory for plugin cuDNN when one has already been registered\n",
      "E0000 00:00:1744471041.144009    8544 cuda_blas.cc:1407] Unable to register cuBLAS factory: Attempting to register factory for plugin cuBLAS when one has already been registered\n",
      "W0000 00:00:1744471041.723879    8544 computation_placer.cc:177] computation placer already registered. Please check linkage and avoid linking the same target more than once.\n",
      "W0000 00:00:1744471041.723913    8544 computation_placer.cc:177] computation placer already registered. Please check linkage and avoid linking the same target more than once.\n",
      "W0000 00:00:1744471041.723916    8544 computation_placer.cc:177] computation placer already registered. Please check linkage and avoid linking the same target more than once.\n",
      "W0000 00:00:1744471041.723919    8544 computation_placer.cc:177] computation placer already registered. Please check linkage and avoid linking the same target more than once.\n",
      "2025-04-12 15:17:21.795329: I tensorflow/core/platform/cpu_feature_guard.cc:210] This TensorFlow binary is optimized to use available CPU instructions in performance-critical operations.\n",
      "To enable the following instructions: AVX2 AVX512F FMA, in other operations, rebuild TensorFlow with the appropriate compiler flags.\n",
      "Matplotlib is building the font cache; this may take a moment.\n",
      "/home/ec2-user/anaconda3/envs/python3/lib/python3.10/site-packages/keras/src/layers/core/embedding.py:90: UserWarning: Argument `input_length` is deprecated. Just remove it.\n",
      "  warnings.warn(\n"
     ]
    },
    {
     "name": "stdout",
     "output_type": "stream",
     "text": [
      "Epoch 1/10\n"
     ]
    },
    {
     "name": "stderr",
     "output_type": "stream",
     "text": [
      "2025-04-12 15:17:42.633012: E external/local_xla/xla/stream_executor/cuda/cuda_platform.cc:51] failed call to cuInit: INTERNAL: CUDA error: Failed call to cuInit: CUDA_ERROR_NO_DEVICE: no CUDA-capable device is detected\n"
     ]
    },
    {
     "name": "stdout",
     "output_type": "stream",
     "text": [
      "\u001b[1m518/518\u001b[0m \u001b[32m━━━━━━━━━━━━━━━━━━━━\u001b[0m\u001b[37m\u001b[0m \u001b[1m94s\u001b[0m 175ms/step - loss: 67083.6562 - mae: 168.7849\n",
      "Epoch 2/10\n",
      "\u001b[1m518/518\u001b[0m \u001b[32m━━━━━━━━━━━━━━━━━━━━\u001b[0m\u001b[37m\u001b[0m \u001b[1m141s\u001b[0m 174ms/step - loss: 52693.4609 - mae: 162.5692\n",
      "Epoch 3/10\n",
      "\u001b[1m518/518\u001b[0m \u001b[32m━━━━━━━━━━━━━━━━━━━━\u001b[0m\u001b[37m\u001b[0m \u001b[1m137s\u001b[0m 163ms/step - loss: 51967.5000 - mae: 163.4505\n",
      "Epoch 4/10\n",
      "\u001b[1m518/518\u001b[0m \u001b[32m━━━━━━━━━━━━━━━━━━━━\u001b[0m\u001b[37m\u001b[0m \u001b[1m150s\u001b[0m 178ms/step - loss: 51157.1562 - mae: 161.8100\n",
      "Epoch 5/10\n",
      "\u001b[1m518/518\u001b[0m \u001b[32m━━━━━━━━━━━━━━━━━━━━\u001b[0m\u001b[37m\u001b[0m \u001b[1m143s\u001b[0m 181ms/step - loss: 50692.6953 - mae: 163.2529\n",
      "Epoch 6/10\n",
      "\u001b[1m518/518\u001b[0m \u001b[32m━━━━━━━━━━━━━━━━━━━━\u001b[0m\u001b[37m\u001b[0m \u001b[1m142s\u001b[0m 181ms/step - loss: 51788.1680 - mae: 163.2665\n",
      "Epoch 7/10\n",
      "\u001b[1m518/518\u001b[0m \u001b[32m━━━━━━━━━━━━━━━━━━━━\u001b[0m\u001b[37m\u001b[0m \u001b[1m135s\u001b[0m 168ms/step - loss: 49243.6406 - mae: 160.9340\n",
      "Epoch 8/10\n",
      "\u001b[1m518/518\u001b[0m \u001b[32m━━━━━━━━━━━━━━━━━━━━\u001b[0m\u001b[37m\u001b[0m \u001b[1m89s\u001b[0m 171ms/step - loss: 52878.5820 - mae: 163.6512\n",
      "Epoch 9/10\n",
      "\u001b[1m518/518\u001b[0m \u001b[32m━━━━━━━━━━━━━━━━━━━━\u001b[0m\u001b[37m\u001b[0m \u001b[1m149s\u001b[0m 184ms/step - loss: 49787.3242 - mae: 162.4647\n",
      "Epoch 10/10\n",
      "\u001b[1m518/518\u001b[0m \u001b[32m━━━━━━━━━━━━━━━━━━━━\u001b[0m\u001b[37m\u001b[0m \u001b[1m136s\u001b[0m 173ms/step - loss: 49443.3984 - mae: 161.2891\n"
     ]
    },
    {
     "data": {
      "text/plain": [
       "<keras.src.callbacks.history.History at 0x7f968da65f00>"
      ]
     },
     "execution_count": 12,
     "metadata": {},
     "output_type": "execute_result"
    }
   ],
   "source": [
    "# Train Deep Learning Models\n",
    "\n",
    "from sklearn.feature_extraction.text import TfidfVectorizer\n",
    "import tensorflow as tf\n",
    "from tensorflow.keras.models import Sequential\n",
    "from tensorflow.keras.layers import Dense, LSTM, Embedding, Dropout\n",
    "\n",
    "vectorizer = TfidfVectorizer(max_features=100)\n",
    "text_features = vectorizer.fit_transform(jira_data['Aggregated_Comment']).toarray()\n",
    "\n",
    "# Example LSTM model for text data\n",
    "model = Sequential([\n",
    "    Embedding(input_dim=10000, output_dim=128, input_length=text_features.shape[1]),\n",
    "    LSTM(128, return_sequences=False),\n",
    "    Dropout(0.2),\n",
    "    Dense(64, activation='relu'),\n",
    "    Dense(1, activation='linear')\n",
    "])\n",
    "\n",
    "model.compile(optimizer='adam', loss='mse', metrics=['mae'])\n",
    "model.fit(text_features, y, epochs=10, batch_size=32)"
   ]
  },
  {
   "cell_type": "code",
   "execution_count": 13,
   "id": "69814a39",
   "metadata": {},
   "outputs": [
    {
     "name": "stdout",
     "output_type": "stream",
     "text": [
      "Epoch 1/10\n"
     ]
    },
    {
     "name": "stderr",
     "output_type": "stream",
     "text": [
      "2025-04-12 15:41:08.455036: W external/local_xla/xla/tsl/framework/cpu_allocator_impl.cc:83] Allocation of 118658044 exceeds 10% of free system memory.\n"
     ]
    },
    {
     "name": "stdout",
     "output_type": "stream",
     "text": [
      "\u001b[1m415/415\u001b[0m \u001b[32m━━━━━━━━━━━━━━━━━━━━\u001b[0m\u001b[37m\u001b[0m \u001b[1m75s\u001b[0m 174ms/step - loss: 42041.8438 - mae: 105.1626\n",
      "Epoch 2/10\n",
      "\u001b[1m415/415\u001b[0m \u001b[32m━━━━━━━━━━━━━━━━━━━━\u001b[0m\u001b[37m\u001b[0m \u001b[1m75s\u001b[0m 180ms/step - loss: 14.2828 - mae: 1.2231\n",
      "Epoch 3/10\n",
      "\u001b[1m415/415\u001b[0m \u001b[32m━━━━━━━━━━━━━━━━━━━━\u001b[0m\u001b[37m\u001b[0m \u001b[1m78s\u001b[0m 171ms/step - loss: 142.5811 - mae: 2.3544\n",
      "Epoch 4/10\n",
      "\u001b[1m415/415\u001b[0m \u001b[32m━━━━━━━━━━━━━━━━━━━━\u001b[0m\u001b[37m\u001b[0m \u001b[1m88s\u001b[0m 185ms/step - loss: 234.1819 - mae: 3.3274\n",
      "Epoch 5/10\n",
      "\u001b[1m415/415\u001b[0m \u001b[32m━━━━━━━━━━━━━━━━━━━━\u001b[0m\u001b[37m\u001b[0m \u001b[1m80s\u001b[0m 181ms/step - loss: 210.5427 - mae: 3.2103\n",
      "Epoch 6/10\n",
      "\u001b[1m415/415\u001b[0m \u001b[32m━━━━━━━━━━━━━━━━━━━━\u001b[0m\u001b[37m\u001b[0m \u001b[1m78s\u001b[0m 187ms/step - loss: 200.9445 - mae: 4.1011\n",
      "Epoch 7/10\n",
      "\u001b[1m415/415\u001b[0m \u001b[32m━━━━━━━━━━━━━━━━━━━━\u001b[0m\u001b[37m\u001b[0m \u001b[1m75s\u001b[0m 180ms/step - loss: 242.9497 - mae: 3.9476\n",
      "Epoch 8/10\n",
      "\u001b[1m415/415\u001b[0m \u001b[32m━━━━━━━━━━━━━━━━━━━━\u001b[0m\u001b[37m\u001b[0m \u001b[1m77s\u001b[0m 170ms/step - loss: 196.2056 - mae: 3.7435\n",
      "Epoch 9/10\n",
      "\u001b[1m415/415\u001b[0m \u001b[32m━━━━━━━━━━━━━━━━━━━━\u001b[0m\u001b[37m\u001b[0m \u001b[1m90s\u001b[0m 190ms/step - loss: 215.8810 - mae: 4.8173\n",
      "Epoch 10/10\n",
      "\u001b[1m415/415\u001b[0m \u001b[32m━━━━━━━━━━━━━━━━━━━━\u001b[0m\u001b[37m\u001b[0m \u001b[1m71s\u001b[0m 164ms/step - loss: 221.8622 - mae: 3.8669\n"
     ]
    },
    {
     "data": {
      "text/plain": [
       "<keras.src.callbacks.history.History at 0x7f966c033e20>"
      ]
     },
     "execution_count": 13,
     "metadata": {},
     "output_type": "execute_result"
    }
   ],
   "source": [
    "# Combine Structured and Unstructured Data\n",
    "\n",
    "from tensorflow.keras.layers import Input, Concatenate\n",
    "from tensorflow.keras.models import Model\n",
    "\n",
    "# Inputs\n",
    "structured_input = Input(shape=(X_train_scaled.shape[1],))\n",
    "text_input = Input(shape=(text_features.shape[1],))\n",
    "\n",
    "# Structured Model\n",
    "x = Dense(64, activation='relu')(structured_input)\n",
    "\n",
    "# Text Model\n",
    "y = Embedding(input_dim=10000, output_dim=128)(text_input)\n",
    "y = LSTM(128)(y)\n",
    "\n",
    "# Combine\n",
    "combined = Concatenate()([x, y])\n",
    "z = Dense(64, activation='relu')(combined)\n",
    "z = Dense(1, activation='linear')(z)\n",
    "\n",
    "# Define the Model\n",
    "multi_modal_model = Model(inputs=[structured_input, text_input], outputs=z)\n",
    "multi_modal_model.compile(optimizer='adam', loss='mse', metrics=['mae'])\n",
    "\n",
    "text_features = text_features[:X_train_scaled.shape[0], :]\n",
    "\n",
    "y_train = y_train[:X_train_scaled.shape[0]]\n",
    "\n",
    "# Train the model\n",
    "multi_modal_model.fit([X_train_scaled, text_features], y_train, epochs=10, batch_size=32)"
   ]
  },
  {
   "cell_type": "code",
   "execution_count": 17,
   "id": "c04f8bc1",
   "metadata": {},
   "outputs": [
    {
     "name": "stdout",
     "output_type": "stream",
     "text": [
      "INFO:tensorflow:Assets written to: export/Servo/1/assets\n"
     ]
    },
    {
     "name": "stderr",
     "output_type": "stream",
     "text": [
      "INFO:tensorflow:Assets written to: export/Servo/1/assets\n"
     ]
    },
    {
     "name": "stdout",
     "output_type": "stream",
     "text": [
      "Model directory contains: ['assets', 'variables', 'fingerprint.pb', 'saved_model.pb']\n",
      "Tar file created successfully!\n",
      " Model successfully uploaded to s3://sagemaker-us-east-1-975049930129/jira_estimate_model.tar.gz\n"
     ]
    }
   ],
   "source": [
    "import tensorflow as tf\n",
    "import boto3\n",
    "import os\n",
    "import tarfile\n",
    "\n",
    "# Step 1: Save Model to Path\n",
    "model_dir = os.path.join(\"export\", \"Servo\", \"1\")\n",
    "os.makedirs(model_dir, exist_ok=True)\n",
    "\n",
    "tf.saved_model.save(multi_modal_model, model_dir)\n",
    "\n",
    "# Step 2: Verify `saved_model.pb` Exists in the Correct Location\n",
    "if \"saved_model.pb\" not in os.listdir(model_dir):\n",
    "    raise ValueError(\"❌ ERROR: 'saved_model.pb' not found! Model may not have been saved correctly.\")\n",
    "\n",
    "print(\"Model directory contains:\", os.listdir(model_dir))\n",
    "\n",
    "tar_model_path = \"jira_estimate_model.tar.gz\"\n",
    "with tarfile.open(tar_model_path, \"w:gz\") as tar:\n",
    "    tar.add(\"export\", arcname=\"model/export\")\n",
    "\n",
    "print(\"Tar file created successfully!\")\n",
    "\n",
    "# Step 4: Upload Model to S3\n",
    "s3_bucket = \"sagemaker-us-east-1-975049930129\"\n",
    "s3_model_path = f\"s3://{s3_bucket}/jira_estimate_model.tar.gz\"\n",
    "\n",
    "s3 = boto3.client(\"s3\")\n",
    "s3.upload_file(tar_model_path, s3_bucket, \"jira_estimate_model.tar.gz\")\n",
    "\n",
    "print(f\" Model successfully uploaded to {s3_model_path}\")"
   ]
  },
  {
   "cell_type": "code",
   "execution_count": 18,
   "id": "e9069880",
   "metadata": {},
   "outputs": [
    {
     "name": "stdout",
     "output_type": "stream",
     "text": [
      "----------!Model deployed successfully!\n"
     ]
    }
   ],
   "source": [
    "import sagemaker\n",
    "from sagemaker.tensorflow import TensorFlowModel\n",
    "from sagemaker import get_execution_role\n",
    "\n",
    "# Initialize SageMaker session\n",
    "sagemaker_session = sagemaker.Session()\n",
    "\n",
    "# Define TensorFlow Model in SageMaker with Env Variable\n",
    "tensorflow_model = TensorFlowModel(\n",
    "    model_data=f\"s3://{s3_bucket}/jira_estimate_model.tar.gz\",\n",
    "    role=get_execution_role(),\n",
    "    framework_version=\"2.16\",\n",
    "    sagemaker_session=sagemaker_session,\n",
    "    env={\n",
    "        \"SAGEMAKER_TFS_DEFAULT_MODEL_NAME\": \"Servo\",\n",
    "        \"SAGEMAKER_TFS_MODEL_VERSION_POLICY\": \"latest\",\n",
    "        \"SAGEMAKER_TFS_ENABLE_METRICS\": \"true\",\n",
    "        \"SAGEMAKER_TFS_WAIT_TIME_SECONDS\": \"300\"\n",
    "    }\n",
    ")\n",
    "\n",
    "predictor = tensorflow_model.deploy(instance_type=\"ml.g4dn.xlarge\", initial_instance_count=1)\n",
    "\n",
    "print(\"Model deployed successfully!\")"
   ]
  },
  {
   "cell_type": "code",
   "execution_count": 20,
   "id": "fe5f4b22",
   "metadata": {},
   "outputs": [
    {
     "name": "stdout",
     "output_type": "stream",
     "text": [
      "Predicted Output: {'predictions': [[3.742]]}\n"
     ]
    }
   ],
   "source": [
    "import json\n",
    "import numpy as np\n",
    "import boto3\n",
    "\n",
    "# Convert structured features to float32\n",
    "structured_features = np.array(X_test_scaled[0], dtype=np.float32).tolist()\n",
    "\n",
    "# Convert text_description into a 100-dimensional vector\n",
    "text_description = \"Implement a new login authentication system with two-factor authentication.\"\n",
    "text_vector = vectorizer.transform([text_description]).toarray()[0].astype(np.float32).tolist()\n",
    "\n",
    "# Construct payload\n",
    "payload = {\n",
    "    \"instances\": [\n",
    "        {\n",
    "            \"inputs\": structured_features,\n",
    "            \"inputs_1\": text_vector\n",
    "        }\n",
    "    ]\n",
    "}\n",
    "\n",
    "# Convert payload to JSON bytes\n",
    "payload_bytes = json.dumps(payload).encode(\"utf-8\")  # 🔹 Ensure UTF-8 encoding\n",
    "\n",
    "runtime = boto3.client(\"sagemaker-runtime\", region_name=\"us-east-1\")  # 🔹 Change region if needed\n",
    "response = runtime.invoke_endpoint(\n",
    "    EndpointName=predictor.endpoint_name,\n",
    "    ContentType=\"application/json\",\n",
    "    Body=payload_bytes  # 🔹 Send as raw JSON bytes\n",
    ")\n",
    "\n",
    "# Read response\n",
    "result = response[\"Body\"].read().decode(\"utf-8\")\n",
    "print(\"Predicted Output:\", result)"
   ]
  },
  {
   "cell_type": "code",
   "execution_count": 21,
   "id": "0269e22c",
   "metadata": {},
   "outputs": [
    {
     "name": "stdout",
     "output_type": "stream",
     "text": [
      "SageMaker endpoint deleted.\n"
     ]
    }
   ],
   "source": [
    "predictor.delete_endpoint()\n",
    "print(\"SageMaker endpoint deleted.\")"
   ]
  },
  {
   "cell_type": "code",
   "execution_count": null,
   "id": "7229cb06-ed35-48c7-a6a7-463de43c64ee",
   "metadata": {},
   "outputs": [],
   "source": []
  },
  {
   "cell_type": "markdown",
   "id": "fe70b439",
   "metadata": {},
   "source": [
    "## Exploratory Visualization\n",
    "\n",
    "Here’s a histogram of ticket resolution durations to understand distribution and identify skew or outliers."
   ]
  },
  {
   "cell_type": "code",
   "execution_count": 6,
   "id": "07e9537f",
   "metadata": {},
   "outputs": [
    {
     "data": {
      "image/png": "[encoded data removed]",
      "text/plain": [
       "<Figure size 640x480 with 1 Axes>"
      ]
     },
     "metadata": {},
     "output_type": "display_data"
    }
   ],
   "source": [
    "\n",
    "import matplotlib.pyplot as plt\n",
    "plt.hist(jira_data['Duration'], bins=30, edgecolor='black')\n",
    "plt.title('Distribution of Ticket Resolution Durations')\n",
    "plt.xlabel('Days to Resolve')\n",
    "plt.ylabel('Number of Tickets')\n",
    "plt.grid(True)\n",
    "plt.show()\n"
   ]
  }
 ],
 "metadata": {
  "kernelspec": {
   "display_name": "conda_python3",
   "language": "python",
   "name": "conda_python3"
  },
  "language_info": {
   "codemirror_mode": {
    "name": "ipython",
    "version": 3
   },
   "file_extension": ".py",
   "mimetype": "text/x-python",
   "name": "python",
   "nbconvert_exporter": "python",
   "pygments_lexer": "ipython3",
   "version": "3.10.16"
  }
 },
 "nbformat": 4,
 "nbformat_minor": 5
}
